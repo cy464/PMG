{
    "metadata": {
        "kernelspec": {
            "name": "SQL",
            "display_name": "SQL",
            "language": "sql"
        },
        "language_info": {
            "name": "sql",
            "version": ""
        }
    },
    "nbformat_minor": 2,
    "nbformat": 4,
    "cells": [
        {
            "cell_type": "code",
            "source": [
                "--1. Write a query to get the sum of impressions by day.\r\n",
                "SELECT  CONVERT(DATE, [date]) AS Date\r\n",
                "    , SUM([Impressions]) AS Daily_Impressions\r\n",
                "FROM dbo.Marketing_Performance\r\n",
                "GROUP BY [date]\r\n",
                "ORDER BY [date]\r\n",
                "-- I have [ ] because I dragged the column name straight from the directory, which is faster and more accurate than typing.\r\n",
                ""
            ],
            "metadata": {
                "azdata_cell_guid": "05df1249-eed2-4f99-816f-585392b7860a",
                "language": "sql"
            },
            "outputs": [
                {
                    "output_type": "display_data",
                    "data": {
                        "text/html": "(17 rows affected)"
                    },
                    "metadata": {}
                },
                {
                    "output_type": "display_data",
                    "data": {
                        "text/html": "Total execution time: 00:00:00.046"
                    },
                    "metadata": {}
                },
                {
                    "output_type": "execute_result",
                    "execution_count": 1,
                    "data": {
                        "application/vnd.dataresource+json": {
                            "schema": {
                                "fields": [
                                    {
                                        "name": "Date"
                                    },
                                    {
                                        "name": "Daily_Impressions"
                                    }
                                ]
                            },
                            "data": [
                                {
                                    "Date": "2023-07-24",
                                    "Daily_Impressions": "1423"
                                },
                                {
                                    "Date": "2023-07-26",
                                    "Daily_Impressions": "1547"
                                },
                                {
                                    "Date": "2023-07-27",
                                    "Daily_Impressions": "2295"
                                },
                                {
                                    "Date": "2023-07-28",
                                    "Daily_Impressions": "8142"
                                },
                                {
                                    "Date": "2023-07-29",
                                    "Daily_Impressions": "3511"
                                },
                                {
                                    "Date": "2023-07-30",
                                    "Daily_Impressions": "3001"
                                },
                                {
                                    "Date": "2023-08-02",
                                    "Daily_Impressions": "1532"
                                },
                                {
                                    "Date": "2023-08-03",
                                    "Daily_Impressions": "3189"
                                },
                                {
                                    "Date": "2023-08-04",
                                    "Daily_Impressions": "3254"
                                },
                                {
                                    "Date": "2023-08-05",
                                    "Daily_Impressions": "1088"
                                },
                                {
                                    "Date": "2023-08-10",
                                    "Daily_Impressions": "2128"
                                },
                                {
                                    "Date": "2023-08-11",
                                    "Daily_Impressions": "2278"
                                },
                                {
                                    "Date": "2023-08-12",
                                    "Daily_Impressions": "6588"
                                },
                                {
                                    "Date": "2023-08-13",
                                    "Daily_Impressions": "2170"
                                },
                                {
                                    "Date": "2023-08-14",
                                    "Daily_Impressions": "5773"
                                },
                                {
                                    "Date": "2023-08-17",
                                    "Daily_Impressions": "3292"
                                },
                                {
                                    "Date": "2023-08-19",
                                    "Daily_Impressions": "1248"
                                }
                            ]
                        },
                        "text/html": "<table><tr><th>Date</th><th>Daily_Impressions</th></tr><tr><td>2023-07-24</td><td>1423</td></tr><tr><td>2023-07-26</td><td>1547</td></tr><tr><td>2023-07-27</td><td>2295</td></tr><tr><td>2023-07-28</td><td>8142</td></tr><tr><td>2023-07-29</td><td>3511</td></tr><tr><td>2023-07-30</td><td>3001</td></tr><tr><td>2023-08-02</td><td>1532</td></tr><tr><td>2023-08-03</td><td>3189</td></tr><tr><td>2023-08-04</td><td>3254</td></tr><tr><td>2023-08-05</td><td>1088</td></tr><tr><td>2023-08-10</td><td>2128</td></tr><tr><td>2023-08-11</td><td>2278</td></tr><tr><td>2023-08-12</td><td>6588</td></tr><tr><td>2023-08-13</td><td>2170</td></tr><tr><td>2023-08-14</td><td>5773</td></tr><tr><td>2023-08-17</td><td>3292</td></tr><tr><td>2023-08-19</td><td>1248</td></tr></table>"
                    },
                    "metadata": {}
                }
            ],
            "execution_count": 1
        },
        {
            "cell_type": "code",
            "source": [
                "-- 2. Write a query to get the top three revenue-generating states in order of best to worst.\r\n",
                "SELECT TOP 3 [state] as State\r\n",
                "    , SUM([Revenue]) AS Total_Revenue\r\n",
                "FROM dbo.Website_Revenue\r\n",
                "GROUP BY [state]\r\n",
                "ORDER BY Total_Revenue DESC\r\n",
                ""
            ],
            "metadata": {
                "azdata_cell_guid": "c33e0f95-6f63-4811-bbb1-4869554cb986",
                "language": "sql"
            },
            "outputs": [
                {
                    "output_type": "display_data",
                    "data": {
                        "text/html": "(3 rows affected)"
                    },
                    "metadata": {}
                },
                {
                    "output_type": "display_data",
                    "data": {
                        "text/html": "Total execution time: 00:00:00.038"
                    },
                    "metadata": {}
                },
                {
                    "output_type": "execute_result",
                    "execution_count": 3,
                    "data": {
                        "application/vnd.dataresource+json": {
                            "schema": {
                                "fields": [
                                    {
                                        "name": "State"
                                    },
                                    {
                                        "name": "Total_Revenue"
                                    }
                                ]
                            },
                            "data": [
                                {
                                    "State": "NY",
                                    "Total_Revenue": "46398"
                                },
                                {
                                    "State": "GA",
                                    "Total_Revenue": "39666"
                                },
                                {
                                    "State": "OH",
                                    "Total_Revenue": "37577"
                                }
                            ]
                        },
                        "text/html": "<table><tr><th>State</th><th>Total_Revenue</th></tr><tr><td>NY</td><td>46398</td></tr><tr><td>GA</td><td>39666</td></tr><tr><td>OH</td><td>37577</td></tr></table>"
                    },
                    "metadata": {}
                }
            ],
            "execution_count": 3
        },
        {
            "cell_type": "markdown",
            "source": [
                "<span style=\"color: #008000;\">-- How much revenue did the third best state generate?</span>\n",
                "\n",
                "<span style=\"color: #008000;\">-- The third revenue-generating state is Ohio, and it generated $37577.</span>"
            ],
            "metadata": {
                "azdata_cell_guid": "7a1fa86a-88a9-4d3a-9445-0044fc6b738e"
            },
            "attachments": {}
        },
        {
            "cell_type": "code",
            "source": [
                "--3. Write a query that shows total cost, impressions, clicks, and revenue of each campaign.\r\n",
                "-- Make sure to include the campaign name in the output.\r\n",
                "\r\n",
                "SELECT c.[name] AS Campaign_Name --Renaming all these columns\r\n",
                "    , m.[campaign_id] AS Campain_ID\r\n",
                "    , ROUND(SUM(m.[cost]),2) AS Total_Cost --Only want 2 decimal places\r\n",
                "    , SUM(m.[impressions]) AS Total_Impressions --Finding the sum value for all these columns that need to be included.\r\n",
                "    , SUM(m.[clicks]) AS Total_Clicks\r\n",
                "    , SUM(w.[revenue]) AS Total_Revenue\r\n",
                "FROM dbo.marketing_performance m --Renaming the csv files bc their names are too long.\r\n",
                "INNER JOIN dbo.campaign_info c\r\n",
                "ON m.[campaign_id]=c.[id]  -- Joining these 2 files first\r\n",
                "INNER JOIN dbo.website_revenue w\r\n",
                "ON m.[campaign_id]=w.[campaign_id] -- Then joining the joint file with the third file\r\n",
                "GROUP BY c.[name], m.[campaign_id]\r\n",
                "ORDER BY c.[name]"
            ],
            "metadata": {
                "azdata_cell_guid": "4c625b9d-9d64-4f3f-8dd3-b1f7520aaafe",
                "language": "sql"
            },
            "outputs": [
                {
                    "output_type": "display_data",
                    "data": {
                        "text/html": "(5 rows affected)"
                    },
                    "metadata": {}
                },
                {
                    "output_type": "display_data",
                    "data": {
                        "text/html": "Total execution time: 00:00:00.040"
                    },
                    "metadata": {}
                },
                {
                    "output_type": "execute_result",
                    "execution_count": 5,
                    "data": {
                        "application/vnd.dataresource+json": {
                            "schema": {
                                "fields": [
                                    {
                                        "name": "Campaign_Name"
                                    },
                                    {
                                        "name": "Campain_ID"
                                    },
                                    {
                                        "name": "Total_Cost"
                                    },
                                    {
                                        "name": "Total_Impressions"
                                    },
                                    {
                                        "name": "Total_Clicks"
                                    },
                                    {
                                        "name": "Total_Revenue"
                                    }
                                ]
                            },
                            "data": [
                                {
                                    "Campaign_Name": "Campaign1",
                                    "Campain_ID": "64441550",
                                    "Total_Cost": "4170.51",
                                    "Total_Impressions": "42810",
                                    "Total_Clicks": "38724",
                                    "Total_Revenue": "151792"
                                },
                                {
                                    "Campaign_Name": "Campaign2",
                                    "Campain_ID": "55304737",
                                    "Total_Cost": "4075.5",
                                    "Total_Impressions": "40938",
                                    "Total_Clicks": "29652",
                                    "Total_Revenue": "155308"
                                },
                                {
                                    "Campaign_Name": "Campaign3",
                                    "Campain_ID": "89363211",
                                    "Total_Cost": "15809.04",
                                    "Total_Impressions": "158280",
                                    "Total_Clicks": "116048",
                                    "Total_Revenue": "551672"
                                },
                                {
                                    "Campaign_Name": "Campaign4",
                                    "Campain_ID": "86363015",
                                    "Total_Cost": "3970.14",
                                    "Total_Impressions": "47508",
                                    "Total_Clicks": "33318",
                                    "Total_Revenue": "163396"
                                },
                                {
                                    "Campaign_Name": "Campaign5",
                                    "Campain_ID": "99058240",
                                    "Total_Cost": "4077.15",
                                    "Total_Impressions": "25641",
                                    "Total_Clicks": "33663",
                                    "Total_Revenue": "136404"
                                }
                            ]
                        },
                        "text/html": "<table><tr><th>Campaign_Name</th><th>Campain_ID</th><th>Total_Cost</th><th>Total_Impressions</th><th>Total_Clicks</th><th>Total_Revenue</th></tr><tr><td>Campaign1</td><td>64441550</td><td>4170.51</td><td>42810</td><td>38724</td><td>151792</td></tr><tr><td>Campaign2</td><td>55304737</td><td>4075.5</td><td>40938</td><td>29652</td><td>155308</td></tr><tr><td>Campaign3</td><td>89363211</td><td>15809.04</td><td>158280</td><td>116048</td><td>551672</td></tr><tr><td>Campaign4</td><td>86363015</td><td>3970.14</td><td>47508</td><td>33318</td><td>163396</td></tr><tr><td>Campaign5</td><td>99058240</td><td>4077.15</td><td>25641</td><td>33663</td><td>136404</td></tr></table>"
                    },
                    "metadata": {}
                }
            ],
            "execution_count": 5
        },
        {
            "cell_type": "code",
            "source": [
                "-- 4. Write a query to get the number of conversions of Campaign5 by state.\r\n",
                "-- Which state generated the most conversions for this campaign?\r\n",
                "SELECT c.[name] AS Campaign\r\n",
                "    , m.[geo] AS State\r\n",
                "    , SUM(m.[conversions]) AS Total_Conversions --Summing up number of conversions\r\n",
                "FROM dbo.campaign_info c\r\n",
                "INNER JOIN dbo.marketing_performance m\r\n",
                "ON c.[id] = m.[campaign_id]\r\n",
                "WHERE c.[name] = 'Campaign5' --filtering just for conversions in Campaign 5\r\n",
                "GROUP BY m.[geo]\r\n",
                "        ,c.[name]\r\n",
                "\r\n",
                "-- Georgia generated the most conversoins for Campaign 5\r\n",
                ""
            ],
            "metadata": {
                "azdata_cell_guid": "49f6df21-9974-4e5c-9da2-08448d6c8881",
                "language": "sql"
            },
            "outputs": [
                {
                    "output_type": "display_data",
                    "data": {
                        "text/html": "(2 rows affected)"
                    },
                    "metadata": {}
                },
                {
                    "output_type": "display_data",
                    "data": {
                        "text/html": "Total execution time: 00:00:00.045"
                    },
                    "metadata": {}
                },
                {
                    "output_type": "execute_result",
                    "execution_count": 7,
                    "data": {
                        "application/vnd.dataresource+json": {
                            "schema": {
                                "fields": [
                                    {
                                        "name": "Campaign"
                                    },
                                    {
                                        "name": "State"
                                    },
                                    {
                                        "name": "Total_Conversions"
                                    }
                                ]
                            },
                            "data": [
                                {
                                    "Campaign": "Campaign5",
                                    "State": "United States-GA",
                                    "Total_Conversions": "672"
                                },
                                {
                                    "Campaign": "Campaign5",
                                    "State": "United States-OH",
                                    "Total_Conversions": "442"
                                }
                            ]
                        },
                        "text/html": "<table><tr><th>Campaign</th><th>State</th><th>Total_Conversions</th></tr><tr><td>Campaign5</td><td>United States-GA</td><td>672</td></tr><tr><td>Campaign5</td><td>United States-OH</td><td>442</td></tr></table>"
                    },
                    "metadata": {}
                }
            ],
            "execution_count": 7
        },
        {
            "cell_type": "code",
            "source": [
                "-- 5. In your opinion, which campaign was the most efficient, and why?\r\n",
                "SELECT c.[name] AS Campaign\r\n",
                "    , SUM(m.[conversions]) AS Total_Conversions --Summing up number of conversions\r\n",
                "FROM dbo.campaign_info c\r\n",
                "INNER JOIN dbo.marketing_performance m\r\n",
                "ON c.[id] = m.[campaign_id]\r\n",
                "GROUP BY c.[name]\r\n",
                "ORDER BY SUM(m.[conversions]) DESC\r\n",
                "\r\n",
                "-- Campaign 3 seems to be the most effective overall because it has the highest sum of conversions across states.\r\n",
                ""
            ],
            "metadata": {
                "azdata_cell_guid": "cd8c3167-e2be-41f2-9ad6-28b0c977acc0",
                "language": "sql"
            },
            "outputs": [
                {
                    "output_type": "display_data",
                    "data": {
                        "text/html": "(5 rows affected)"
                    },
                    "metadata": {}
                },
                {
                    "output_type": "display_data",
                    "data": {
                        "text/html": "Total execution time: 00:00:00.105"
                    },
                    "metadata": {}
                },
                {
                    "output_type": "execute_result",
                    "metadata": {},
                    "execution_count": 1,
                    "data": {
                        "application/vnd.dataresource+json": {
                            "schema": {
                                "fields": [
                                    {
                                        "name": "Campaign"
                                    },
                                    {
                                        "name": "Total_Conversions"
                                    }
                                ]
                            },
                            "data": [
                                {
                                    "Campaign": "Campaign3",
                                    "Total_Conversions": "4451"
                                },
                                {
                                    "Campaign": "Campaign1",
                                    "Total_Conversions": "3018"
                                },
                                {
                                    "Campaign": "Campaign4",
                                    "Total_Conversions": "1551"
                                },
                                {
                                    "Campaign": "Campaign2",
                                    "Total_Conversions": "1516"
                                },
                                {
                                    "Campaign": "Campaign5",
                                    "Total_Conversions": "1114"
                                }
                            ]
                        },
                        "text/html": [
                            "<table>",
                            "<tr><th>Campaign</th><th>Total_Conversions</th></tr>",
                            "<tr><td>Campaign3</td><td>4451</td></tr>",
                            "<tr><td>Campaign1</td><td>3018</td></tr>",
                            "<tr><td>Campaign4</td><td>1551</td></tr>",
                            "<tr><td>Campaign2</td><td>1516</td></tr>",
                            "<tr><td>Campaign5</td><td>1114</td></tr>",
                            "</table>"
                        ]
                    }
                }
            ],
            "execution_count": 1
        },
        {
            "cell_type": "code",
            "source": [
                "--**Bonus Question**\r\n",
                "--6. Write a query that showcases the best day of the week (e.g., Sunday, Monday, Tuesday, etc.) to run ads.\r\n",
                "\r\n",
                "SELECT DATEPART(WEEKDAY, [date]) 'AS Day of the Week'  -- Drawing out the days of the week, according to the date\r\n",
                "    , AVG([cost]/[conversions]) AS 'Dollars Per Conversion' -- Finding out how much each conversion costs.\r\n",
                "FROM dbo.marketing_performance\r\n",
                "GROUP BY DATEPART(WEEKDAY, [date])\r\n",
                "ORDER BY AVG([cost]/[conversions]) ASC\r\n",
                "\r\n",
                "-- Wednesday, the 4th day of the week, is the best day to run ads as it has the lowest cost per conversion.\r\n",
                "-- I chose to compute the cost per conversion instead of cost per impression because it's more substantial and leads to real results"
            ],
            "metadata": {
                "azdata_cell_guid": "90cefc7a-312b-4d75-971a-eb41495e4ca7",
                "language": "sql"
            },
            "outputs": [
                {
                    "output_type": "display_data",
                    "data": {
                        "text/html": "(6 rows affected)"
                    },
                    "metadata": {}
                },
                {
                    "output_type": "display_data",
                    "data": {
                        "text/html": "Total execution time: 00:00:00.038"
                    },
                    "metadata": {}
                },
                {
                    "output_type": "execute_result",
                    "execution_count": 12,
                    "data": {
                        "application/vnd.dataresource+json": {
                            "schema": {
                                "fields": [
                                    {
                                        "name": "AS Day of the Week"
                                    },
                                    {
                                        "name": "Dollars Per Conversion"
                                    }
                                ]
                            },
                            "data": [
                                {
                                    "AS Day of the Week": "4",
                                    "Dollars Per Conversion": "0.3634327970939284"
                                },
                                {
                                    "AS Day of the Week": "6",
                                    "Dollars Per Conversion": "0.3811430773961086"
                                },
                                {
                                    "AS Day of the Week": "5",
                                    "Dollars Per Conversion": "0.4774955182406679"
                                },
                                {
                                    "AS Day of the Week": "7",
                                    "Dollars Per Conversion": "0.5062864191087108"
                                },
                                {
                                    "AS Day of the Week": "2",
                                    "Dollars Per Conversion": "0.5515364632092459"
                                },
                                {
                                    "AS Day of the Week": "1",
                                    "Dollars Per Conversion": "0.6358254244305318"
                                }
                            ]
                        },
                        "text/html": "<table><tr><th>AS Day of the Week</th><th>Dollars Per Conversion</th></tr><tr><td>4</td><td>0.3634327970939284</td></tr><tr><td>6</td><td>0.3811430773961086</td></tr><tr><td>5</td><td>0.4774955182406679</td></tr><tr><td>7</td><td>0.5062864191087108</td></tr><tr><td>2</td><td>0.5515364632092459</td></tr><tr><td>1</td><td>0.6358254244305318</td></tr></table>"
                    },
                    "metadata": {}
                }
            ],
            "execution_count": 12
        }
    ]
}